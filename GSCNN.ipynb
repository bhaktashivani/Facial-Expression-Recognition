{
 "cells": [
  {
   "cell_type": "markdown",
   "metadata": {},
   "source": [
    "# Image Semantic Segmentation with Gated Shape CNN\n",
    "Shivani Bhakta and Payal Singh - SP21 ECE 285\n",
    "\n",
    "## Abstract\n",
    "Semantic segmentation is a useful tool for object detection and recognizing \"stuff\" in the environment. It is a particularly relevant problem in machine learning applications like autonomous driving, personal security, sports, and many more. In this project we want to implement a two-stream CNN (the authors refer to it as a gated shape CNN) for semantic segmentation as described in Takikawa et al., 2019 [1].\n",
    "\n"
   ]
  },
  {
   "cell_type": "code",
   "execution_count": 2,
   "metadata": {},
   "outputs": [],
   "source": [
    "# Imports\n",
    "import numpy as np"
   ]
  },
  {
   "cell_type": "markdown",
   "metadata": {},
   "source": [
    "## References\n",
    "\n",
    "[1]T. Takikawa,  D. Acuna1,  V. Jampani,  and S. Fidler. Gated-SCNN: Gated Shape CNNs forSemantic Segmentation. 2019.https://arxiv.org/pdf/1907.05740.pdf\n",
    "\n",
    "[2]L.-C. Chen, Y. Zhu, G. Papandreou, F. Schroff, and H. Adam. Encoder-decoder with atrousseparable convolution for semantic image segmentation. In ECCV, 2018.\n",
    "\n",
    "[3]M. Cordts, M. Omran, S. Ramos, T. Rehfeld, M. Enzweiler, R. Benenson, U. Franke, S. Roth,and B. Schiele. The cityscapes dataset for semantic urban scene understanding. In CVPR, 2016.\n",
    "\n",
    "[4]T.-Y. Lin, M. Maire, S. Belongie, J. Hays, P. Perona, D. Ramanan, P. Dollar, and C. L. Zitnick.Microsoft coco: Common objects in context. InEuropean Conference on Computer Vision, pages740–755. Springer, 2014.https://arxiv.org/abs/1405.03122\n"
   ]
  },
  {
   "cell_type": "code",
   "execution_count": null,
   "metadata": {},
   "outputs": [],
   "source": []
  }
 ],
 "metadata": {
  "kernelspec": {
   "display_name": "Python 3",
   "language": "python",
   "name": "python3"
  },
  "language_info": {
   "codemirror_mode": {
    "name": "ipython",
    "version": 3
   },
   "file_extension": ".py",
   "mimetype": "text/x-python",
   "name": "python",
   "nbconvert_exporter": "python",
   "pygments_lexer": "ipython3",
   "version": "3.7.6"
  }
 },
 "nbformat": 4,
 "nbformat_minor": 4
}
